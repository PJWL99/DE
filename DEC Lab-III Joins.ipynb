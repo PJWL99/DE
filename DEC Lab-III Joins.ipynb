{
 "cells": [
  {
   "cell_type": "code",
   "execution_count": 18,
   "id": "a60a614f",
   "metadata": {},
   "outputs": [
    {
     "name": "stdout",
     "output_type": "stream",
     "text": [
      "   ID     Name   Age\n",
      "0   1    Alice   NaN\n",
      "1   2      Bob  25.0\n",
      "2   3  Charlie  30.0\n"
     ]
    }
   ],
   "source": [
    "#integration: \n",
    "#Left Outer Join\n",
    "#Right Outer Join\n",
    "#Inner Join\n",
    "#Outer Join\n",
    "\n",
    "import pandas as pd\n",
    "\n",
    "# Sample datasets\n",
    "data1 = {'ID': [1, 2, 3], 'Name': ['Alice', 'Bob', 'Charlie']}\n",
    "data2 = {'ID': [2, 3, 4], 'Age': [25, 30, 22]}\n",
    "\n",
    "# Creating DataFrames\n",
    "df1 = pd.DataFrame(data1)\n",
    "df2 = pd.DataFrame(data2)\n",
    "\n",
    "# Performing a left join based on the 'ID' column\n",
    "#With a left outer join, all the records from the first Dataframe will be displayed, irrespective of whether the keys \n",
    "#in the first Dataframe can be found in the second Dataframe. \n",
    "#Whereas, for the second Dataframe, only the records with the keys in the second Dataframe that can be found \n",
    "#in the first Dataframe will be displayed.\n",
    "\n",
    "merged_left_df = pd.merge(df1, df2, on='ID', how='left')\n",
    "# Displaying the merged DataFrame\n",
    "print(merged_left_df)"
   ]
  },
  {
   "cell_type": "code",
   "execution_count": 19,
   "id": "4d5b8fa0",
   "metadata": {},
   "outputs": [
    {
     "name": "stdout",
     "output_type": "stream",
     "text": [
      "   ID     Name  Age\n",
      "0   2      Bob   25\n",
      "1   3  Charlie   30\n",
      "2   4      NaN   22\n"
     ]
    }
   ],
   "source": [
    "#For a right join, all the records from the second Dataframe will be displayed. \n",
    "#However, only the records with the keys in the first Dataframe that can be found in the second Dataframe will be displayed.\n",
    "merged_right_df = pd.merge(df1, df2, on='ID', how='right')\n",
    "print(merged_right_df)"
   ]
  },
  {
   "cell_type": "code",
   "execution_count": 20,
   "id": "fa9aaffb",
   "metadata": {},
   "outputs": [
    {
     "name": "stdout",
     "output_type": "stream",
     "text": [
      "   ID     Name  Age\n",
      "0   2      Bob   25\n",
      "1   3  Charlie   30\n"
     ]
    }
   ],
   "source": [
    "#It returns a Dataframe with only those rows that have common characteristics. \n",
    "#This is similar to the intersection of two sets.\n",
    "\n",
    "merged_inner_df = pd.merge(df1, df2, on='ID', how='inner')\n",
    "print(merged_inner_df)"
   ]
  },
  {
   "cell_type": "code",
   "execution_count": 21,
   "id": "33bedd5f",
   "metadata": {},
   "outputs": [
    {
     "name": "stdout",
     "output_type": "stream",
     "text": [
      "   ID     Name   Age\n",
      "0   1    Alice   NaN\n",
      "1   2      Bob  25.0\n",
      "2   3  Charlie  30.0\n",
      "3   4      NaN  22.0\n"
     ]
    }
   ],
   "source": [
    "#A full outer join returns all the rows from the left Dataframe, and all the rows from the right Dataframe, and \n",
    "#matches up rows where possible, with NaNs elsewhere. But if the Dataframe is complete, then we get the same output.\n",
    "\n",
    "merged_outer_df = pd.merge(df1, df2, on='ID', how='outer')\n",
    "print(merged_outer_df)"
   ]
  },
  {
   "cell_type": "code",
   "execution_count": null,
   "id": "175699c4",
   "metadata": {},
   "outputs": [],
   "source": []
  }
 ],
 "metadata": {
  "kernelspec": {
   "display_name": "Python 3 (ipykernel)",
   "language": "python",
   "name": "python3"
  },
  "language_info": {
   "codemirror_mode": {
    "name": "ipython",
    "version": 3
   },
   "file_extension": ".py",
   "mimetype": "text/x-python",
   "name": "python",
   "nbconvert_exporter": "python",
   "pygments_lexer": "ipython3",
   "version": "3.9.13"
  }
 },
 "nbformat": 4,
 "nbformat_minor": 5
}
